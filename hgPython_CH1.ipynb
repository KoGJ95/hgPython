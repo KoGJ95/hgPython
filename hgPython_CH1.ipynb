{
 "cells": [
  {
   "cell_type": "markdown",
   "metadata": {},
   "source": [
    "# CH1. 파이썬 시작하기  \n",
    "## 01-1 파이썬을 하기 전에 읽는 아주 간단한 설명  \n",
    "- 컴퓨터 프로그램 : 컴퓨터가 무엇을 해야 할지 미리 작성한 진행 계획  \n",
    "- 프로그램을 만드는 것 : 프로그래밍(Programming)  \n",
    "- 과거 이진법으로 된 코드 -> 이진 코드(binary code)  \n",
    "- 현재 사람이 이해하기 쉬운 언어로 만든 코드 -> 프로그래밍 언어(programming language)  \n",
    "- 프로그래밍 언어로 작성한 프로그램 -> 소스 코드(source code)  \n",
    "\n",
    "\n"
   ]
  },
  {
   "cell_type": "markdown",
   "metadata": {},
   "source": [
    "## 01-2 파이썬을 배우기 위해 준비해야 할 것들\n",
    "- 프로그래밍을 할 수 있는 환경 -> 개발 환경\n",
    "- 프로그래밍 언어로 이루어진 코드를 작성하는 곳 -> 텍스트 에디터\n",
    "- 작성한 코드를 실행 시키는 곳 -> 코드 실행기\n",
    "- 파이썬은 프롬프트라 불리는 >>>에 코드를 입력하면 바로 실행 결과를 볼 수 있다 -> 인터렉티브 셸(대화형 셸)\n"
   ]
  },
  {
   "cell_type": "code",
   "execution_count": 1,
   "metadata": {},
   "outputs": [
    {
     "name": "stdout",
     "output_type": "stream",
     "text": [
      "Hello Python\n"
     ]
    }
   ],
   "source": [
    "#확인 문제 1 \n",
    "print(\"Hello Python\")"
   ]
  },
  {
   "cell_type": "code",
   "execution_count": 2,
   "metadata": {},
   "outputs": [
    {
     "name": "stdout",
     "output_type": "stream",
     "text": [
      "Hello! Hello! Hello! \n",
      "혼자 공부하다 모르면 동영상 강의를 참고하세요!\n"
     ]
    }
   ],
   "source": [
    "#확인 문제 2\n",
    "print(\"Hello! \" * 3)\n",
    "print(\"혼자 공부하다 모르면 동영상 강의를 참고하세요!\")"
   ]
  },
  {
   "cell_type": "markdown",
   "metadata": {},
   "source": [
    "## 01-3 이 책에서 자주 나오는 파이썬 용어들\n"
   ]
  },
  {
   "cell_type": "markdown",
   "metadata": {},
   "source": [
    "### 표현식\n",
    "- **어떠한 값을 만들어 내는 간단한 코드**  \n",
    "- 이때 값은 숫자, 수식, 문자열 등과 같은 걸 의미  \n",
    "ex) 173, 10 + 20 + 30 * 10, \"Python Programming\"\n",
    "- +. -와 같은 기호가 아무것도 없이 있을 땐 그 자체로는 어떠한 값도 만들 수 없어서 표현식이 아니다."
   ]
  },
  {
   "cell_type": "markdown",
   "metadata": {},
   "source": [
    "### 문장\n",
    "- **표현식이 하나 이상 모인것**"
   ]
  },
  {
   "cell_type": "markdown",
   "metadata": {},
   "source": [
    "### 프로그램\n",
    "- **문장과 문장이 모인것**"
   ]
  },
  {
   "cell_type": "markdown",
   "metadata": {},
   "source": [
    "### 키워드\n",
    "- **특별한 의미가 부여된 단어로, 파이썬이 만들어질 떄 이미 사용하겠다고 예약해 놓은 단어**\n",
    "- 대소문자를 구분하며, 정해진 방식 외엔 사용할 수 없다"
   ]
  },
  {
   "cell_type": "code",
   "execution_count": 3,
   "metadata": {},
   "outputs": [
    {
     "name": "stdout",
     "output_type": "stream",
     "text": [
      "['False', 'None', 'True', 'and', 'as', 'assert', 'async', 'await', 'break', 'class', 'continue', 'def', 'del', 'elif', 'else', 'except', 'finally', 'for', 'from', 'global', 'if', 'import', 'in', 'is', 'lambda', 'nonlocal', 'not', 'or', 'pass', 'raise', 'return', 'try', 'while', 'with', 'yield']\n"
     ]
    }
   ],
   "source": [
    "#키워드 목록\n",
    "import keyword\n",
    "print(keyword.kwlist)"
   ]
  },
  {
   "cell_type": "markdown",
   "metadata": {},
   "source": [
    "### 식별자\n",
    "- **프로그래밍 언어에서 이름을 붙일 때 사용되는 단어**\n",
    "- 주로 변수 또는 함수 이름 등으로 사용\n",
    "- **다음과 같은 규칙을 지켜야함**\n",
    "  - 키워드를 사용하면 안 됩니다.\n",
    "  - 특수문자는 언더 바(_)만 허용됩니다.\n",
    "  - 숫자로 시작하면 안 됩니다.\n",
    "  - 공백을 포함할 수 없습니다.\n"
   ]
  },
  {
   "cell_type": "markdown",
   "metadata": {},
   "source": [
    "#### 스네이크 케이스와 캐멀 케이스\n",
    "  - 식별자에는 공백을 사용할 수 없기 때문에 이를 쉽게 이해하도록 만든 방법\n",
    "##### 스네이크 케이스\n",
    "- 단어 사이에 언더 바(_) 기호를 붙여 식별자를 만드는 방식  \n",
    "ex) itemlist -> item_list\n",
    "##### 캐멀 케이스\n",
    "- 단어들의 첫 글자를 대문자로 만들어 식별자를 만드는 방식  \n",
    "ex) itemlist -> Itemlist\n"
   ]
  },
  {
   "cell_type": "markdown",
   "metadata": {},
   "source": [
    "### 식별자 구분하기\n",
    "- 원래 캐멀 케이스는 2가지로 구분 됨.\n",
    "  - '첫 번째 글자를 대문자로 적는다'\n",
    "  - '첫 번째 글자를 소문자로 적는다'  \n",
    "- 하지만 파이썬에서 '첫 번째 글자를 소문자로 적는다'라는 캐멀 케이스는 사용하지 않음\n",
    "- 따라서 첫 번째 글자가 소문자라면 무조건 **스네이크 케이스**\n"
   ]
  },
  {
   "cell_type": "markdown",
   "metadata": {},
   "source": [
    "### 식별자 구분하기 - 예시 문제 \n",
    "- print() : 스네이크 케이스 뒤에 괄호가 붙어 있으므로 **함수** \n",
    "- list() : 스네이크 케이스 뒤에 괄호가 붙어 있으므로 **함수**\n",
    "- soup.select() : 스네이크 케이스 뒤에 괄호가 붙어 있으므로 **함수**\n",
    "- math.pi : 스네이크 케이스 뒤에 괄호가 없으므로 **변수**\n",
    "- math.e : 스네이크 케이스 뒤에 괄호가 없으므로 **변수**\n",
    "- class Animal() : 캐멀 케이스이므로 **클래스**\n",
    "- BeautifulSoup() : 캐멀 케이스이므로 일단 **클래스**, 다만 나중에 배울 **클래스 생성자**임"
   ]
  },
  {
   "cell_type": "markdown",
   "metadata": {},
   "source": [
    "### 주석\n",
    "- 프로그램의 진행에 영향을 주지 않는 코드\n",
    "- #을 붙여서 주석 처리함"
   ]
  },
  {
   "cell_type": "markdown",
   "metadata": {},
   "source": [
    "### 연산자와 자료\n",
    "- 연산자는 스스로 값이 되는 것은 아니고 값과 값 사이에 무언가 기능을 적용할 때 사용하는 것   \n",
    "  ex)사칙 연산자(+ - * /)\n",
    "- 자료는 리터럴(literal)이라고도 불림. 숫자이든 문자이든 어떠한 '값' 자체를 의미"
   ]
  },
  {
   "cell_type": "markdown",
   "metadata": {},
   "source": [
    "### 출력(print())\n",
    "- 파이썬의 가장 기본적인 출력 방법 : print()"
   ]
  },
  {
   "cell_type": "code",
   "execution_count": 4,
   "metadata": {},
   "outputs": [
    {
     "name": "stdout",
     "output_type": "stream",
     "text": [
      "Hello Python Programming...!\n",
      "52\n",
      "273\n"
     ]
    }
   ],
   "source": [
    "# 하나만 출력하기\n",
    "print(\"Hello Python Programming...!\")\n",
    "print(52)\n",
    "print(273)"
   ]
  },
  {
   "cell_type": "code",
   "execution_count": 5,
   "metadata": {},
   "outputs": [
    {
     "name": "stdout",
     "output_type": "stream",
     "text": [
      "52 273 Hello\n",
      "안녕하세요 저의 이름은 윤인성입니다!!\n"
     ]
    }
   ],
   "source": [
    "# 여러 개 출력하기\n",
    "print(52, 273, \"Hello\")\n",
    "print(\"안녕하세요\", \"저의\", \"이름은\", \"윤인성입니다!!\")"
   ]
  },
  {
   "cell_type": "code",
   "execution_count": 7,
   "metadata": {},
   "outputs": [
    {
     "name": "stdout",
     "output_type": "stream",
     "text": [
      "# 아무것도 출력하지 않습니다.\n",
      "---확인 전용선---\n",
      "\n",
      "\n",
      "---확인 전용선---\n"
     ]
    }
   ],
   "source": [
    "# 줄바꿈하기\n",
    "print(\"# 아무것도 출력하지 않습니다.\")\n",
    "print(\"---확인 전용선---\")\n",
    "print()\n",
    "print()\n",
    "print(\"---확인 전용선---\")"
   ]
  },
  {
   "cell_type": "code",
   "execution_count": null,
   "metadata": {},
   "outputs": [],
   "source": []
  }
 ],
 "metadata": {
  "interpreter": {
   "hash": "aee8b7b246df8f9039afb4144a1f6fd8d2ca17a180786b69acc140d282b71a49"
  },
  "kernelspec": {
   "display_name": "Python 3.10.4 64-bit",
   "language": "python",
   "name": "python3"
  },
  "language_info": {
   "codemirror_mode": {
    "name": "ipython",
    "version": 3
   },
   "file_extension": ".py",
   "mimetype": "text/x-python",
   "name": "python",
   "nbconvert_exporter": "python",
   "pygments_lexer": "ipython3",
   "version": "3.10.4"
  },
  "orig_nbformat": 4
 },
 "nbformat": 4,
 "nbformat_minor": 2
}
