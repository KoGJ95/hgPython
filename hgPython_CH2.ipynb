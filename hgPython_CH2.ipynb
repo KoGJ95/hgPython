{
 "cells": [
  {
   "cell_type": "markdown",
   "metadata": {},
   "source": [
    "# CH2. 자료형  \n",
    "- 프로그래밍에서 프로그램이 처리할 수 있는 모든 것"
   ]
  },
  {
   "cell_type": "markdown",
   "metadata": {},
   "source": [
    "### 기본적인 자료형\n",
    "- 문자열(String) : \"안녕하세요\", \"Hello World\"\n",
    "- 숫자(Number) : 52, 273, 103.32\n",
    "- 불(Boolean) : True, False\n"
   ]
  },
  {
   "cell_type": "code",
   "execution_count": 1,
   "metadata": {},
   "outputs": [
    {
     "name": "stdout",
     "output_type": "stream",
     "text": [
      "<class 'str'>\n",
      "<class 'int'>\n"
     ]
    }
   ],
   "source": [
    "print(type(\"안녕하세요\"))\n",
    "print(type(273))"
   ]
  },
  {
   "cell_type": "code",
   "execution_count": 3,
   "metadata": {},
   "outputs": [
    {
     "name": "stdout",
     "output_type": "stream",
     "text": [
      "# 하나만 출력합니다.\n",
      "Hello Python Programming...\n",
      "\n",
      "# 여러 개를 출력합니다.\n",
      "10 20 30 40 50\n",
      "안녕하세요 저의 이름은 윤인성입니다!\n"
     ]
    }
   ],
   "source": [
    "#문자열 만들기 - 따옴표로 둘러싸기\n",
    "\n",
    "#하나만 출력\n",
    "print(\"# 하나만 출력합니다.\")\n",
    "print(\"Hello Python Programming...\")\n",
    "print()\n",
    "\n",
    "#여러개를 출력\n",
    "print(\"# 여러 개를 출력합니다.\")\n",
    "print(10,20,30,40,50)\n",
    "print(\"안녕하세요\", \"저의\",\"이름은\",\"윤인성입니다!\")"
   ]
  },
  {
   "cell_type": "code",
   "execution_count": 4,
   "metadata": {},
   "outputs": [
    {
     "name": "stdout",
     "output_type": "stream",
     "text": [
      "\"안녕하세요\"라고 말했습니다.\n",
      "'배가 고프다'라고 생각했습니다.\n"
     ]
    }
   ],
   "source": [
    "#문자열 내부에 따옴표 넣기\n",
    "print('\"안녕하세요\"라고 말했습니다.')\n",
    "print(\"'배가 고프다'라고 생각했습니다.\")\n",
    "#적는거랑 다른 따옴표를 외부에 적용 시키기"
   ]
  },
  {
   "cell_type": "code",
   "execution_count": 5,
   "metadata": {},
   "outputs": [
    {
     "name": "stdout",
     "output_type": "stream",
     "text": [
      "\"안녕하세요\"라고 말했습니다.\n",
      "'배가고픕니다'라고 생각했습니다.\n"
     ]
    }
   ],
   "source": [
    "#이스케이프 문자를 이용해 문자열 만들기\n",
    "#\\\" : 큰따옴표를 의미\n",
    "#\\' : 작은따옴표를 의미\n",
    "print(\"\\\"안녕하세요\\\"라고 말했습니다.\")\n",
    "print('\\'배가고픕니다\\'라고 생각했습니다.')"
   ]
  },
  {
   "cell_type": "code",
   "execution_count": 6,
   "metadata": {},
   "outputs": [
    {
     "name": "stdout",
     "output_type": "stream",
     "text": [
      "안녕하세요\n",
      "안녕하세요\n",
      "안녕하세요\t안녕하세요\n"
     ]
    }
   ],
   "source": [
    "#다양한 이스케이프 문자\n",
    "#\\n : 줄바꿈을 의미\n",
    "#\\t : 탭을 의미\n",
    "print(\"안녕하세요\\n안녕하세요\")\n",
    "print(\"안녕하세요\\t안녕하세요\")"
   ]
  },
  {
   "cell_type": "code",
   "execution_count": 8,
   "metadata": {},
   "outputs": [
    {
     "name": "stdout",
     "output_type": "stream",
     "text": [
      "이름\t나이\t지역\n",
      "윤인성\t25\t강서구\n",
      "윤아린\t24\t강서구\n",
      "구름\t3\t강서구\n"
     ]
    }
   ],
   "source": [
    "print(\"이름\\t나이\\t지역\")\n",
    "print(\"윤인성\\t25\\t강서구\")\n",
    "print(\"윤아린\\t24\\t강서구\")\n",
    "print(\"구름\\t3\\t강서구\")"
   ]
  },
  {
   "cell_type": "code",
   "execution_count": 9,
   "metadata": {},
   "outputs": [
    {
     "name": "stdout",
     "output_type": "stream",
     "text": [
      "\\ \\ \\ \\\n"
     ]
    }
   ],
   "source": [
    "#역슬래시를 의미하는 이스케이프 문자 : \\\\\n",
    "print(\"\\\\ \\\\ \\\\ \\\\\")"
   ]
  },
  {
   "cell_type": "code",
   "execution_count": 10,
   "metadata": {},
   "outputs": [
    {
     "name": "stdout",
     "output_type": "stream",
     "text": [
      "동해물과 백두산이 마르고 닳도록\n",
      "하느님이 보우하사 우리나라 만세\n",
      "무궁화 삼천리 화려강산\n",
      "대한사람 대한으로 길이 보전하세\n"
     ]
    }
   ],
   "source": [
    "#여러 줄 문자열 만들기\n",
    "print(\"동해물과 백두산이 마르고 닳도록\\n하느님이 보우하사 우리나라 만세\\n무궁화 삼천리 화려강산\\n대한사람 대한으로 길이 보전하세\")"
   ]
  },
  {
   "cell_type": "code",
   "execution_count": 12,
   "metadata": {},
   "outputs": [
    {
     "name": "stdout",
     "output_type": "stream",
     "text": [
      "동해물과 백두산이 마르고 닳도록\n",
      "하느님이 보우하사 우리나라 만세\n",
      "무궁화 삼천리 화려강산\n",
      "대한사람 대한으로 길이 보전하세\n"
     ]
    }
   ],
   "source": [
    "#엔터 칠 때 마다 줄바꿈 만들기 : \"\"\"\n",
    "print(\"\"\"동해물과 백두산이 마르고 닳도록\n",
    "하느님이 보우하사 우리나라 만세\n",
    "무궁화 삼천리 화려강산\n",
    "대한사람 대한으로 길이 보전하세\"\"\")"
   ]
  },
  {
   "cell_type": "code",
   "execution_count": 15,
   "metadata": {},
   "outputs": [
    {
     "name": "stdout",
     "output_type": "stream",
     "text": [
      "동해물과 백두산이 마르고 닳도록\n",
      "하느님이 보우하사 우리나라 만세\n",
      "무궁화 삼천리 화려강산\n",
      "대한사람 대한으로 길이 보전하세\n"
     ]
    }
   ],
   "source": [
    "#엔터 칠 때 마다 줄바꿈 + 첫 줄과 마지막 줄에 줄바꿈 안하기 : \"\"\"\\\n",
    "print(\"\"\"\\\n",
    "동해물과 백두산이 마르고 닳도록\n",
    "하느님이 보우하사 우리나라 만세\n",
    "무궁화 삼천리 화려강산\n",
    "대한사람 대한으로 길이 보전하세\\\n",
    "\"\"\")"
   ]
  },
  {
   "cell_type": "code",
   "execution_count": null,
   "metadata": {},
   "outputs": [],
   "source": []
  }
 ],
 "metadata": {
  "interpreter": {
   "hash": "aee8b7b246df8f9039afb4144a1f6fd8d2ca17a180786b69acc140d282b71a49"
  },
  "kernelspec": {
   "display_name": "Python 3.10.4 64-bit",
   "language": "python",
   "name": "python3"
  },
  "language_info": {
   "codemirror_mode": {
    "name": "ipython",
    "version": 3
   },
   "file_extension": ".py",
   "mimetype": "text/x-python",
   "name": "python",
   "nbconvert_exporter": "python",
   "pygments_lexer": "ipython3",
   "version": "3.10.4"
  },
  "orig_nbformat": 4
 },
 "nbformat": 4,
 "nbformat_minor": 2
}
